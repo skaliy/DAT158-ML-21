{
 "cells": [
  {
   "cell_type": "markdown",
   "metadata": {},
   "source": [
    "# 0. Getting started\n",
    "> Installation of software.\n",
    "\n",
    "- toc: true \n",
    "- badges: true\n",
    "- sticky_rank: 1\n",
    "- comments: true\n",
    "- categories: [jupyter]\n",
    "- image: images/chart-preview.png"
   ]
  },
  {
   "cell_type": "markdown",
   "metadata": {},
   "source": [
    "# Set up your computer"
   ]
  },
  {
   "cell_type": "markdown",
   "metadata": {},
   "source": [
    "## Anaconda "
   ]
  },
  {
   "cell_type": "markdown",
   "metadata": {},
   "source": [
    "## Anaconda\n",
    "It is recommended to install Python via the [Anaconda Distribution](https://www.anaconda.com/products/individual#Downloads). We will use the Conda Package Management System included in the Anaconda Distribution. From the [documentation](https://conda.io/docs):\n",
    "> Conda is an open source package management system and environment management system that runs on Windows, macOS and Linux. Conda quickly installs, runs and updates packages and their dependencies. Conda easily creates, saves, loads and switches between environments on your local computer. \n",
    "\n",
    "After installing Anaconda, run `python --version` in a terminal (if you're on Windows, use the \"Anaconda Prompt\"). If the output contains \"Python 3.9\" and \"Anaconda\" then you're ready for the next step."
   ]
  },
  {
   "cell_type": "markdown",
   "metadata": {},
   "source": [
    "## GitHub\n",
    "The course material is hosted on the code-sharing platform GitHub (where you're currently reading this). If you're not already registered at GitHub, make a user account now: [https://github.com/join](https://github.com/join). It is recommended to use the platform for your own projects during the course. As student, you can apply for the GitHub Student Developer Pack, which includes offers and benefits from GitHub partners: [https://education.github.com/students](https://education.github.com/students)."
   ]
  },
  {
   "cell_type": "markdown",
   "metadata": {},
   "source": [
    "## Kaggle\n",
    "[Kaggle](https://www.kaggle.com) is an online community of \"data scientists\", arranging data science competitions and hosting a large number of data sets. We'll make use of Kaggle in DAT158, both for course projects and as a source of data. Make an account here: [https://www.kaggle.com](https://www.kaggle.com). o"
   ]
  },
  {
   "cell_type": "markdown",
   "metadata": {},
   "source": [
    "## Install and test the course environment\n",
    "After installing Anaconda, run through the following steps (on Windows, use the \"Anaconda Prompt\")."
   ]
  },
  {
   "cell_type": "markdown",
   "metadata": {},
   "source": [
    "### Install Git\n",
    "```bash\n",
    "conda install git\n",
    "```"
   ]
  },
  {
   "cell_type": "markdown",
   "metadata": {},
   "source": [
    "### Download the course repository: \n",
    "```bash\n",
    "git clone ..TODO\n",
    "cd DAT158ML\n",
    "```\n"
   ]
  },
  {
   "cell_type": "markdown",
   "metadata": {},
   "source": [
    "### Configure the Python environemnt\n",
    "```bash\n",
    "conda env update\n",
    "```"
   ]
  },
  {
   "cell_type": "markdown",
   "metadata": {},
   "source": [
    "### Activate the environment\n",
    "```bash\n",
    "conda activate dat158\n",
    "```"
   ]
  },
  {
   "cell_type": "markdown",
   "metadata": {},
   "source": [
    "### Install a Jupyter kernel\n",
    "```bash\n",
    "python -m ipykernel install --user --name dat158 --display-name \"DAT158\"\n",
    "```"
   ]
  },
  {
   "cell_type": "markdown",
   "metadata": {},
   "source": [
    "### Test your installation\n",
    "Go through the notebook `notebooks/0.0-test.ipynb`:\n",
    "```bash\n",
    "jupyter notebook\n",
    "```\n",
    "You can alternatively use [JupyterLab](https://github.com/jupyterlab/jupyterlab): \n",
    "```bash\n",
    "jupyter lab\n",
    "```"
   ]
  },
  {
   "cell_type": "markdown",
   "metadata": {},
   "source": [
    "### Updating\n",
    "The code and environment will be updated throughout the course. Run the following commands regularly: \n",
    "* Update code: `git pull`\n",
    "* Update environment: \n",
    "```bash\n",
    "conda activate dat158\n",
    "conda env update\n",
    "```\n"
   ]
  },
  {
   "cell_type": "markdown",
   "metadata": {},
   "source": [
    "### Troubleshooting\n",
    "* If you're using GNU/Linux or MacOS and the `conda activate dat158` command fails, run `source ~/.bash_profile` and try again.\n",
    "* If you're on a Mac and the `conda env update` command fails with a `gcc` error, install [Xcode](https://developer.apple.com/xcode/resources/) through the App store and use it to install **command line tools**. "
   ]
  },
  {
   "cell_type": "code",
   "execution_count": null,
   "metadata": {},
   "outputs": [],
   "source": []
  }
 ],
 "metadata": {
  "kernelspec": {
   "display_name": "Python (fastai-v2)",
   "language": "python",
   "name": "fastai-v2"
  },
  "language_info": {
   "codemirror_mode": {
    "name": "ipython",
    "version": 3
   },
   "file_extension": ".py",
   "mimetype": "text/x-python",
   "name": "python",
   "nbconvert_exporter": "python",
   "pygments_lexer": "ipython3",
   "version": "3.7.10"
  },
  "varInspector": {
   "cols": {
    "lenName": 16,
    "lenType": 16,
    "lenVar": 40
   },
   "kernels_config": {
    "python": {
     "delete_cmd_postfix": "",
     "delete_cmd_prefix": "del ",
     "library": "var_list.py",
     "varRefreshCmd": "print(var_dic_list())"
    },
    "r": {
     "delete_cmd_postfix": ") ",
     "delete_cmd_prefix": "rm(",
     "library": "var_list.r",
     "varRefreshCmd": "cat(var_dic_list()) "
    }
   },
   "types_to_exclude": [
    "module",
    "function",
    "builtin_function_or_method",
    "instance",
    "_Feature"
   ],
   "window_display": false
  }
 },
 "nbformat": 4,
 "nbformat_minor": 4
}
