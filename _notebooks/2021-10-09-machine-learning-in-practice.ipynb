{
 "cells": [
  {
   "cell_type": "markdown",
   "metadata": {},
   "source": [
    "# 3. Machine learning in practice\n",
    "> In this final module, we will look at practical machine learning worklow.\n",
    "\n",
    "- toc: true \n",
    "- sticky_rank: 4\n",
    "- badges: false\n",
    "- comments: true\n",
    "- categories: [jupyter]\n",
    "- image: images/chart-preview.png"
   ]
  },
  {
   "cell_type": "markdown",
   "metadata": {},
   "source": [
    "# Module overview\n",
    "It will be a short guided tour through a complex landscape, where some important topics will be flagged. \n",
    "In particular, we will focus on machine learing production systems and applications. This includes the issues and methodologies for designing, deploying and maintaing data and models."
   ]
  },
  {
   "cell_type": "markdown",
   "metadata": {},
   "source": [
    "# Reading\n",
    "- Read chapter 1 and the \"Launch, Monitor, and Maintain Your System\" section in Chapter 2 again.\n",
    "- Monitoring Machine Learning Models in Production: https://christophergs.com/machine%20learning/2020/03/14/how-to-monitor-machine-learning-models/\n",
    "- Retraining model during deployment: https://neptune.ai/blog/retraining-model-during-deployment-continuous-training-continuous-testing"
   ]
  },
  {
   "cell_type": "markdown",
   "metadata": {},
   "source": [
    "# TODOs"
   ]
  },
  {
   "cell_type": "markdown",
   "metadata": {},
   "source": [
    "## Week 43 and 44\n",
    "- Read chapter 1 and the \"Launch, Monitor, and Maintain Your System\" section in Chapter 2 again.\n",
    "- Set aside a enough time to work on the submission ML No. 2: \"Playing the whole game\"."
   ]
  },
  {
   "cell_type": "markdown",
   "metadata": {},
   "source": [
    "# Deployment tutorials\n",
    "These tutorials are useful for assignment 2, and will also form the basis for our discussion around deployment. \n",
    "<br>\n",
    "The source code are available in the <i> deployment_tutorials </i> folder in the <a href=\"https://github.com/skaliy/dat158-ml-course21\"> course repository</a>."
   ]
  },
  {
   "cell_type": "markdown",
   "metadata": {},
   "source": [
    "## Streamlit-tutorial"
   ]
  },
  {
   "cell_type": "markdown",
   "metadata": {},
   "source": [
    "> youtube: https://youtu.be/ajrWZlw4uQI"
   ]
  },
  {
   "cell_type": "markdown",
   "metadata": {
    "tags": []
   },
   "source": [
    "## Flask-tutorial"
   ]
  },
  {
   "cell_type": "markdown",
   "metadata": {},
   "source": [
    "> youtube: https://youtu.be/RJNJUUpz7Yc\n",
    "> youtube: https://youtu.be/n_5G7FRGlXY"
   ]
  }
 ],
 "metadata": {
  "kernelspec": {
   "display_name": "Python (fastmonai)",
   "language": "python",
   "name": "fastmonai"
  },
  "language_info": {
   "codemirror_mode": {
    "name": "ipython",
    "version": 3
   },
   "file_extension": ".py",
   "mimetype": "text/x-python",
   "name": "python",
   "nbconvert_exporter": "python",
   "pygments_lexer": "ipython3",
   "version": "3.8.8"
  },
  "varInspector": {
   "cols": {
    "lenName": 16,
    "lenType": 16,
    "lenVar": 40
   },
   "kernels_config": {
    "python": {
     "delete_cmd_postfix": "",
     "delete_cmd_prefix": "del ",
     "library": "var_list.py",
     "varRefreshCmd": "print(var_dic_list())"
    },
    "r": {
     "delete_cmd_postfix": ") ",
     "delete_cmd_prefix": "rm(",
     "library": "var_list.r",
     "varRefreshCmd": "cat(var_dic_list()) "
    }
   },
   "types_to_exclude": [
    "module",
    "function",
    "builtin_function_or_method",
    "instance",
    "_Feature"
   ],
   "window_display": false
  }
 },
 "nbformat": 4,
 "nbformat_minor": 4
}
