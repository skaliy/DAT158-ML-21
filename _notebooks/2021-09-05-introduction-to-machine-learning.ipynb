{
 "cells": [
  {
   "cell_type": "markdown",
   "metadata": {},
   "source": [
    "# 1. Introduction to machine learning\n",
    "> In this module, we look at basic machine learning concepts and examples. \n",
    "\n",
    "- toc: true \n",
    "- sticky_rank: 2\n",
    "- badges: true\n",
    "- comments: true\n",
    "- categories: [jupyter]\n",
    "- image: images/chart-preview.png"
   ]
  },
  {
   "cell_type": "markdown",
   "metadata": {},
   "source": [
    "# Module overview  \n",
    "\n",
    "1. What is machine learning? \n",
    "2. Use machine learning to study relatively simple real-world data sets.  \n",
    "3. Learn about basic concepts and techniques in classification.\n",
    "4. What is some of the main challenges in machine learning?\n",
    "5. Formulate real-world problems as machine learning problems by identifying the task, performance measure, and training experience.\n",
    "6. Get started with <a href=\"https://www.kaggle.com/t/bd334e5f18da40b5815e91f7f43fde12\"> ML assignment 1 </a>"
   ]
  },
  {
   "cell_type": "markdown",
   "metadata": {},
   "source": [
    "# Reading"
   ]
  },
  {
   "cell_type": "markdown",
   "metadata": {},
   "source": [
    "- Chapter 1: The Machine Learning Landscape\n",
    "- Chapter 2: End-to-End Machine Learning Project\n",
    "- Chapter 3: Classification"
   ]
  },
  {
   "cell_type": "markdown",
   "metadata": {},
   "source": [
    "# TODOs"
   ]
  },
  {
   "cell_type": "markdown",
   "metadata": {},
   "source": [
    "## Week 33\n",
    "- Go through the notebook `notebooks/0.0-test.ipynb` \n",
    "- Read chapter 1:The Machine Learning Landscape, to gain a better understanding of the lectures in week 36. "
   ]
  },
  {
   "cell_type": "markdown",
   "metadata": {},
   "source": [
    "Note: It's important that you have the necessary software installed and have created a Kaggle account before week 36."
   ]
  },
  {
   "cell_type": "markdown",
   "metadata": {},
   "source": [
    "## Week 36\n",
    "1. Read the instruction for ML assignment 1. You are guided closely through the work, but it is crucial to start early to get good learning outcomes. \n",
    "2. Look at the slides from Introduction to machine learning, part 1.\n",
    "3. Work with the notebook `notebooks/DAT158-Part1-1-simple_examples.ipynb`.\n",
    "4. Look at the slides from Introduction to machine learning, part 2."
   ]
  },
  {
   "cell_type": "markdown",
   "metadata": {},
   "source": [
    "## Week 37\n",
    "1. Go through chapter 3: Classification.  \n",
    "2. Work with the notebook `DAT158-Part1-3-classification.ipynb`.\n",
    "3. Work with assignment 1."
   ]
  },
  {
   "cell_type": "markdown",
   "metadata": {},
   "source": [
    "Note: Read Chapter 2: End-to-End Machine Learning Project, carefully to be able to complete assignment 1."
   ]
  },
  {
   "cell_type": "markdown",
   "metadata": {},
   "source": [
    "## Week 38? \n",
    "1. Work with chapter 3: Classification. \n",
    "2. Work with the notebook `DAT158-Part1-3-classification.ipynb`.\n",
    "3. Work with assignment 1. \n",
    "4. Go through Chapter 4: Training models.  \n",
    "5. Look at the notebook `DAT158-Part2-1-LinReg_GradientDescent.ipynb`."
   ]
  },
  {
   "cell_type": "markdown",
   "metadata": {},
   "source": [
    "# Lecture slides"
   ]
  },
  {
   "cell_type": "markdown",
   "metadata": {},
   "source": [
    "<iframe src=\"https://docs.google.com/presentation/d/1754b_0HeCldgDBi2--m9ItR2MBQl8biaSRx0RZEmaKo/embed?start=false&loop=false&delayms=3000 frameborder=\"0\" width=\"960\" height=\"569\" allowfullscreen=\"true\" mozallowfullscreen=\"true\" webkitallowfullscreen=\"true\"></iframe>"
   ]
  }
 ],
 "metadata": {
  "kernelspec": {
   "display_name": "Python (fastai-v2)",
   "language": "python",
   "name": "fastai-v2"
  },
  "language_info": {
   "codemirror_mode": {
    "name": "ipython",
    "version": 3
   },
   "file_extension": ".py",
   "mimetype": "text/x-python",
   "name": "python",
   "nbconvert_exporter": "python",
   "pygments_lexer": "ipython3",
   "version": "3.7.10"
  },
  "varInspector": {
   "cols": {
    "lenName": 16,
    "lenType": 16,
    "lenVar": 40
   },
   "kernels_config": {
    "python": {
     "delete_cmd_postfix": "",
     "delete_cmd_prefix": "del ",
     "library": "var_list.py",
     "varRefreshCmd": "print(var_dic_list())"
    },
    "r": {
     "delete_cmd_postfix": ") ",
     "delete_cmd_prefix": "rm(",
     "library": "var_list.r",
     "varRefreshCmd": "cat(var_dic_list()) "
    }
   },
   "types_to_exclude": [
    "module",
    "function",
    "builtin_function_or_method",
    "instance",
    "_Feature"
   ],
   "window_display": false
  }
 },
 "nbformat": 4,
 "nbformat_minor": 4
}
