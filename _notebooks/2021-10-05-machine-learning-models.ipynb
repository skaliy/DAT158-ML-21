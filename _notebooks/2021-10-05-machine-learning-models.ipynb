{
 "cells": [
  {
   "cell_type": "markdown",
   "metadata": {},
   "source": [
    "# 2. Machine learning models\n",
    "> In this module, we learn about different machine learning models.\n",
    "\n",
    "- toc: true \n",
    "- sticky_rank: 3\n",
    "- badges: false\n",
    "- comments: true\n",
    "- categories: [jupyter]\n",
    "- image: images/chart-preview.png"
   ]
  },
  {
   "cell_type": "markdown",
   "metadata": {},
   "source": [
    "# Module overview  \n",
    "1. Understand how some selected machine learning models work: linear regression, decision trees, random forests, and gradient boosting.\n",
    "2. Look at how they are constructed and trained.\n",
    "3. Learn about gradient descent, an optimization algorithm widely used to train machine learning models.\n",
    "4. Become familiar with learning curves, bias / variance tradeoff, regularization, decision boundaries, and ensemble of models.\n",
    "5. Learn different ways to optimize hyperparameters.\n",
    "6. Get started with ML assignment 2 "
   ]
  },
  {
   "cell_type": "markdown",
   "metadata": {},
   "source": [
    "# Reading\n",
    "\n",
    "- Chapter 4: Training Models\n",
    "- Chapter 6: Decision Trees\n",
    "- Chapter 7: Ensemble Learning and Random Forests"
   ]
  },
  {
   "cell_type": "markdown",
   "metadata": {},
   "source": [
    "# TODOs"
   ]
  },
  {
   "cell_type": "markdown",
   "metadata": {},
   "source": [
    "## Week 38 \n",
    "1. Work with chapter 3: Classification. \n",
    "2. Work with the notebook `DAT158-Part1-3-classification.ipynb`.\n",
    "3. Work with assignment 1. \n",
    "4. Superficial reading of chapter 4.  \n",
    "5. Look at the notebook `DAT158-Part2-1-LinReg_GradientDescent.ipynb`, `DAT158-Part2-2-PolyReg_learning_curves_bias-variance.ipynb` and `DAT158-Part2-3-Regularization.ipynb`. "
   ]
  },
  {
   "cell_type": "markdown",
   "metadata": {},
   "source": [
    "## Week 39\n",
    "1. Go through chapter 4: Training Models. \n",
    "2. Work on the notebooks: `DAT158-Part2-1-LinReg_GradientDescent.ipynb`, `DAT158-Part2-2-PolyReg_learning_curves_bias-variance.ipynb` and `DAT158-Part2-3-Regularization.ipynb`. Important to work on the \"Your turn!\" Tasks."
   ]
  },
  {
   "cell_type": "markdown",
   "metadata": {},
   "source": [
    "## Week 40\n",
    "1. Presentation of assignment 1  \n",
    "2. Go through chapter 6 and 7.\n",
    "3. Work with the notebooks: `DAT158-Part2-4-Decision_Trees.ipynb` and `DAT158-Part2-5-Ensembling-RandomForests-and-Boosting.ipynb`\n",
    "4. Extra material: `DAT158-Part2-6-Extra-RandomForests-examples.ipynb` and `DAT158-Part2-6-Extra-Hyperparameter_optimization.ipynb`\n",
    "4. Get started with assignment 2."
   ]
  },
  {
   "cell_type": "markdown",
   "metadata": {},
   "source": [
    "# Lecture slides"
   ]
  },
  {
   "cell_type": "markdown",
   "metadata": {},
   "source": [
    "<iframe src=\"https://docs.google.com/presentation/d/1pjNbZWUAQ7Za9nuPHrj01PeuEt70zr58lJohhz9MLdk/embed?start=false&loop=false&delayms=3000&slide=id.ge4d56c9749_0_45\" frameborder=\"0\" width=\"560\" height=\"315\" allowfullscreen=\"true\" mozallowfullscreen=\"true\" webkitallowfullscreen=\"true\"></iframe>"
   ]
  },
  {
   "cell_type": "markdown",
   "metadata": {},
   "source": [
    "<iframe src=\"https://docs.google.com/presentation/d/1Utcig0ykGLKcG6i9nqJnoLglaIPI9Mn-478PzzUJAvQ/embed?start=false&loop=false&delayms=3000&slide=id.ge4d56c9749_0_45\" frameborder=\"0\" width=\"560\" height=\"315\" allowfullscreen=\"true\" mozallowfullscreen=\"true\" webkitallowfullscreen=\"true\"></iframe>"
   ]
  },
  {
   "cell_type": "markdown",
   "metadata": {},
   "source": [
    "<iframe src=\"https://docs.google.com/presentation/d/1sFFX2ue14EGZVHfetdAvJqlrPdYBl_1iXuBgVfZ5xLg/embed?start=false&loop=false&delayms=3000&slide=id.ge4d56c9749_0_45\" frameborder=\"0\" width=\"560\" height=\"315\" allowfullscreen=\"true\" mozallowfullscreen=\"true\" webkitallowfullscreen=\"true\"></iframe>"
   ]
  },
  {
   "cell_type": "markdown",
   "metadata": {},
   "source": [
    "<iframe src=\"https://docs.google.com/presentation/d/1OjabqOih3pmf4icrC0m92lrpoqtBwdOmaTLfJ09I8fw/embed?start=false&loop=false&delayms=3000&slide=id.ge4d56c9749_0_45\" frameborder=\"0\" width=\"560\" height=\"315\" allowfullscreen=\"true\" mozallowfullscreen=\"true\" webkitallowfullscreen=\"true\"></iframe>"
   ]
  },
  {
   "cell_type": "markdown",
   "metadata": {},
   "source": [
    "# Lecture videos"
   ]
  },
  {
   "cell_type": "markdown",
   "metadata": {},
   "source": [
    "<iframe frameborder=\"0\" width=\"560\" height=\"315\" src=\"https://www.youtube.com/embed/Q9MhlUUgSj8\"></iframe>"
   ]
  },
  {
   "cell_type": "markdown",
   "metadata": {},
   "source": [
    "<iframe frameborder=\"0\" width=\"560\" height=\"315\" src=\"https://www.youtube.com/embed/sEbdjvE2XMQ\"></iframe>"
   ]
  },
  {
   "cell_type": "markdown",
   "metadata": {},
   "source": [
    "<iframe frameborder=\"0\" width=\"560\" height=\"315\" src=\"https://www.youtube.com/embed/02GVxlWF4g0\"></iframe>"
   ]
  },
  {
   "cell_type": "markdown",
   "metadata": {},
   "source": [
    "<iframe frameborder=\"0\" width=\"560\" height=\"315\" src=\"https://www.youtube.com/embed/fSZWstThQRU\"></iframe>"
   ]
  },
  {
   "cell_type": "markdown",
   "metadata": {},
   "source": [
    "# Notebook videos"
   ]
  },
  {
   "cell_type": "markdown",
   "metadata": {},
   "source": [
    "## Walkthrough `DAT158-Part2-1-LinReg_GradientDescent.ipynb`"
   ]
  },
  {
   "cell_type": "markdown",
   "metadata": {},
   "source": [
    "<iframe frameborder=\"0\" width=\"560\" height=\"315\" src=\"https://www.youtube.com/embed/4xxrpy6Udvk\"></iframe>"
   ]
  },
  {
   "cell_type": "markdown",
   "metadata": {},
   "source": [
    "<iframe frameborder=\"0\" width=\"560\" height=\"315\" src=\"https://www.youtube.com/embed/fkp2Ls2gXmg\"></iframe>"
   ]
  },
  {
   "cell_type": "markdown",
   "metadata": {},
   "source": [
    "## Walkthrough `DAT158-PyCaret-regression-example.ipynb`\n"
   ]
  },
  {
   "cell_type": "markdown",
   "metadata": {},
   "source": [
    "<iframe frameborder=\"0\" width=\"560\" height=\"315\" src=\"https://www.youtube.com/embed/Ak2J7lYa1MA\"></iframe>"
   ]
  }
 ],
 "metadata": {
  "kernelspec": {
   "display_name": "Python (fastai-v2)",
   "language": "python",
   "name": "fastai-v2"
  },
  "language_info": {
   "codemirror_mode": {
    "name": "ipython",
    "version": 3
   },
   "file_extension": ".py",
   "mimetype": "text/x-python",
   "name": "python",
   "nbconvert_exporter": "python",
   "pygments_lexer": "ipython3",
   "version": "3.7.10"
  },
  "varInspector": {
   "cols": {
    "lenName": 16,
    "lenType": 16,
    "lenVar": 40
   },
   "kernels_config": {
    "python": {
     "delete_cmd_postfix": "",
     "delete_cmd_prefix": "del ",
     "library": "var_list.py",
     "varRefreshCmd": "print(var_dic_list())"
    },
    "r": {
     "delete_cmd_postfix": ") ",
     "delete_cmd_prefix": "rm(",
     "library": "var_list.r",
     "varRefreshCmd": "cat(var_dic_list()) "
    }
   },
   "types_to_exclude": [
    "module",
    "function",
    "builtin_function_or_method",
    "instance",
    "_Feature"
   ],
   "window_display": false
  }
 },
 "nbformat": 4,
 "nbformat_minor": 4
}
