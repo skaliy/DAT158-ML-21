{
 "cells": [
  {
   "cell_type": "markdown",
   "metadata": {},
   "source": [
    "# 2. Machine learning models\n",
    "> In this module, we learn about different machine learning models\n",
    "\n",
    "- toc: true \n",
    "- sticky_rank: 3\n",
    "- badges: false\n",
    "- comments: true\n",
    "- categories: [jupyter]\n",
    "- image: images/chart-preview.png"
   ]
  },
  {
   "cell_type": "markdown",
   "metadata": {},
   "source": [
    "In this module, we will look at some details about how to construct and effectively train some machine learning models. "
   ]
  },
  {
   "cell_type": "markdown",
   "metadata": {},
   "source": [
    "# Module overview  \n",
    "1. Understand how some selected machine learning models work: linear regression, decision trees, random forests, and gradient boosting.\n",
    "2. Look at how they are constructed and trained.\n",
    "3. Learn about gradient descent, an optimization algorithm widely used to train machine learning models.\n",
    "4. Become familiar with learning curves, bias / variance tradeoff, regularization, decision boundaries, and ensemble of models.\n",
    "5. Learn different ways to optimize hyperparameters.\n",
    "6. Get started with ML assignment 2 "
   ]
  },
  {
   "cell_type": "markdown",
   "metadata": {},
   "source": [
    "# Reading\n",
    "\n",
    "- Chapter 4: Training Models\n",
    "- Chapter 5: Decision Trees\n",
    "- Chapter 7: Ensemble Learning and Random Forests"
   ]
  },
  {
   "cell_type": "markdown",
   "metadata": {},
   "source": [
    "# TODOs"
   ]
  },
  {
   "cell_type": "markdown",
   "metadata": {},
   "source": [
    "## Week xx\n",
    "1. Go through chapter 4: Training Models. \n",
    "2. Work on the notebooks: `DAT158-Part2-1-LinReg_GradientDescent.ipynb`, `DAT158-Part2-2-PolyReg_learning_curves_bias-variance.ipynb` and `DAT158-Part2-3-Regularization.ipynb`. Important to work on the \"Your turn!\" Tasks.\n",
    "3. Get started with assignment 2."
   ]
  },
  {
   "cell_type": "markdown",
   "metadata": {},
   "source": [
    "## Week xx\n",
    "1. Go through chapter 6 and 7. \n",
    "2. Work with assignment 2. \n",
    "3. Work with the notebooks: `DAT158-Part2-4-Decision_Trees.ipynb` and `DAT158-Part2-5-Ensembling-RandomForests-and-Boosting.ipynb`\n",
    "4. Extra material: `DAT158-Part2-6-Extra-RandomForests-examples.ipynb` and `DAT158-Part2-6-Extra-Hyperparameter_optimization.ipynb`"
   ]
  },
  {
   "cell_type": "markdown",
   "metadata": {},
   "source": [
    "# Lecture slides"
   ]
  },
  {
   "cell_type": "markdown",
   "metadata": {},
   "source": [
    "# Notebook videos"
   ]
  },
  {
   "cell_type": "markdown",
   "metadata": {},
   "source": [
    "## Walkthrough `DAT158-Part2-1-LinReg_GradientDescent.ipynb`"
   ]
  },
  {
   "cell_type": "markdown",
   "metadata": {},
   "source": [
    "> youtube: https://youtu.be/4xxrpy6Udvk\n",
    "> youtube: https://youtu.be/fkp2Ls2gXmg"
   ]
  }
 ],
 "metadata": {
  "kernelspec": {
   "display_name": "Python (fastai-v2)",
   "language": "python",
   "name": "fastai-v2"
  },
  "language_info": {
   "codemirror_mode": {
    "name": "ipython",
    "version": 3
   },
   "file_extension": ".py",
   "mimetype": "text/x-python",
   "name": "python",
   "nbconvert_exporter": "python",
   "pygments_lexer": "ipython3",
   "version": "3.7.10"
  },
  "varInspector": {
   "cols": {
    "lenName": 16,
    "lenType": 16,
    "lenVar": 40
   },
   "kernels_config": {
    "python": {
     "delete_cmd_postfix": "",
     "delete_cmd_prefix": "del ",
     "library": "var_list.py",
     "varRefreshCmd": "print(var_dic_list())"
    },
    "r": {
     "delete_cmd_postfix": ") ",
     "delete_cmd_prefix": "rm(",
     "library": "var_list.r",
     "varRefreshCmd": "cat(var_dic_list()) "
    }
   },
   "types_to_exclude": [
    "module",
    "function",
    "builtin_function_or_method",
    "instance",
    "_Feature"
   ],
   "window_display": false
  }
 },
 "nbformat": 4,
 "nbformat_minor": 4
}
